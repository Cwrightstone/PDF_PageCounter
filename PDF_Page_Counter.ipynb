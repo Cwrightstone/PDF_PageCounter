{
 "cells": [
  {
   "cell_type": "code",
   "execution_count": 15,
   "metadata": {},
   "outputs": [
    {
     "name": "stdout",
     "output_type": "stream",
     "text": [
      "['.DS_Store', 'TC Energy HSE Certifications.pdf', 'Operator Qualifications.pdf', 'TC Energy Excavations Certifications.pdf', '.ipynb_checkpoints', 'PDF_Page_Counter.ipynb']\n",
      "16\n"
     ]
    }
   ],
   "source": [
    "import PyPDF2\n",
    "import os \n",
    "import pandas as pd\n",
    "\n",
    "\n",
    "# print this to check that all your files are listed \n",
    "print(os.listdir())\n",
    "# if you want to add the path to the directory if in windows add \"r\" before your path location\n",
    "#print(os.walk(\"\")) \n",
    "\n",
    "\n",
    "# Empty list for adding total number of pages\n",
    "pagesnumber = []\n",
    "\n",
    "# loop thru all the files in the working directory\n",
    "for file in os.listdir():\n",
    "    if file.endswith(\".pdf\"):\n",
    "        readpdf = PyPDF2.PdfFileReader(file)\n",
    "        totalpages = readpdf.numPages\n",
    "        pagesnumber.append(totalpages)\n",
    "        # this print statement is for a check\n",
    "        #print(totalpages)\n",
    "        \n",
    "Total_Pages_Num = sum(pagesnumber)   \n",
    "print(Total_Pages_Num)\n",
    "\n",
    "\n",
    "\n",
    "\n",
    "\n"
   ]
  }
 ],
 "metadata": {
  "interpreter": {
   "hash": "3ecdd23505e244b7b0b9a06952f73e718a5aa9d047049d2f1081b896e5c04bf9"
  },
  "kernelspec": {
   "display_name": "Python 3.9.7 ('appendix_maker')",
   "language": "python",
   "name": "python3"
  },
  "language_info": {
   "codemirror_mode": {
    "name": "ipython",
    "version": 3
   },
   "file_extension": ".py",
   "mimetype": "text/x-python",
   "name": "python",
   "nbconvert_exporter": "python",
   "pygments_lexer": "ipython3",
   "version": "3.9.7"
  },
  "orig_nbformat": 4
 },
 "nbformat": 4,
 "nbformat_minor": 2
}
